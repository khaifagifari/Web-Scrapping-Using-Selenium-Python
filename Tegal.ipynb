{
 "cells": [
  {
   "cell_type": "code",
   "execution_count": 1,
   "metadata": {
    "ExecuteTime": {
     "end_time": "2020-11-03T13:55:42.185271Z",
     "start_time": "2020-11-03T13:55:39.672813Z"
    }
   },
   "outputs": [
    {
     "ename": "SessionNotCreatedException",
     "evalue": "Message: session not created: This version of ChromeDriver only supports Chrome version 86\nCurrent browser version is 85.0.4183.102 with binary path /usr/bin/google-chrome\n",
     "output_type": "error",
     "traceback": [
      "\u001b[0;31m---------------------------------------------------------------------------\u001b[0m",
      "\u001b[0;31mSessionNotCreatedException\u001b[0m                Traceback (most recent call last)",
      "\u001b[0;32m<ipython-input-1-9e28f74f8354>\u001b[0m in \u001b[0;36m<module>\u001b[0;34m\u001b[0m\n\u001b[1;32m      7\u001b[0m \u001b[0;34m\u001b[0m\u001b[0m\n\u001b[1;32m      8\u001b[0m \u001b[0mDRIVER_PATH\u001b[0m \u001b[0;34m=\u001b[0m \u001b[0;34m'/usr/lib/chromium-browser/chromedriver'\u001b[0m\u001b[0;34m\u001b[0m\u001b[0;34m\u001b[0m\u001b[0m\n\u001b[0;32m----> 9\u001b[0;31m \u001b[0mdriver\u001b[0m \u001b[0;34m=\u001b[0m \u001b[0mwebdriver\u001b[0m\u001b[0;34m.\u001b[0m\u001b[0mChrome\u001b[0m\u001b[0;34m(\u001b[0m\u001b[0mexecutable_path\u001b[0m\u001b[0;34m=\u001b[0m \u001b[0mDRIVER_PATH\u001b[0m\u001b[0;34m)\u001b[0m\u001b[0;34m\u001b[0m\u001b[0;34m\u001b[0m\u001b[0m\n\u001b[0m\u001b[1;32m     10\u001b[0m \u001b[0msource\u001b[0m\u001b[0;34m=\u001b[0m \u001b[0;34m'https://covid19.tegalkab.go.id/'\u001b[0m\u001b[0;34m\u001b[0m\u001b[0;34m\u001b[0m\u001b[0m\n\u001b[1;32m     11\u001b[0m \u001b[0mdriver\u001b[0m\u001b[0;34m.\u001b[0m\u001b[0mget\u001b[0m\u001b[0;34m(\u001b[0m\u001b[0msource\u001b[0m\u001b[0;34m)\u001b[0m\u001b[0;34m\u001b[0m\u001b[0;34m\u001b[0m\u001b[0m\n",
      "\u001b[0;32m~/anaconda3/lib/python3.7/site-packages/selenium/webdriver/chrome/webdriver.py\u001b[0m in \u001b[0;36m__init__\u001b[0;34m(self, executable_path, port, options, service_args, desired_capabilities, service_log_path, chrome_options, keep_alive)\u001b[0m\n\u001b[1;32m     79\u001b[0m                     \u001b[0mremote_server_addr\u001b[0m\u001b[0;34m=\u001b[0m\u001b[0mself\u001b[0m\u001b[0;34m.\u001b[0m\u001b[0mservice\u001b[0m\u001b[0;34m.\u001b[0m\u001b[0mservice_url\u001b[0m\u001b[0;34m,\u001b[0m\u001b[0;34m\u001b[0m\u001b[0;34m\u001b[0m\u001b[0m\n\u001b[1;32m     80\u001b[0m                     keep_alive=keep_alive),\n\u001b[0;32m---> 81\u001b[0;31m                 desired_capabilities=desired_capabilities)\n\u001b[0m\u001b[1;32m     82\u001b[0m         \u001b[0;32mexcept\u001b[0m \u001b[0mException\u001b[0m\u001b[0;34m:\u001b[0m\u001b[0;34m\u001b[0m\u001b[0;34m\u001b[0m\u001b[0m\n\u001b[1;32m     83\u001b[0m             \u001b[0mself\u001b[0m\u001b[0;34m.\u001b[0m\u001b[0mquit\u001b[0m\u001b[0;34m(\u001b[0m\u001b[0;34m)\u001b[0m\u001b[0;34m\u001b[0m\u001b[0;34m\u001b[0m\u001b[0m\n",
      "\u001b[0;32m~/anaconda3/lib/python3.7/site-packages/selenium/webdriver/remote/webdriver.py\u001b[0m in \u001b[0;36m__init__\u001b[0;34m(self, command_executor, desired_capabilities, browser_profile, proxy, keep_alive, file_detector, options)\u001b[0m\n\u001b[1;32m    155\u001b[0m             warnings.warn(\"Please use FirefoxOptions to set browser profile\",\n\u001b[1;32m    156\u001b[0m                           DeprecationWarning, stacklevel=2)\n\u001b[0;32m--> 157\u001b[0;31m         \u001b[0mself\u001b[0m\u001b[0;34m.\u001b[0m\u001b[0mstart_session\u001b[0m\u001b[0;34m(\u001b[0m\u001b[0mcapabilities\u001b[0m\u001b[0;34m,\u001b[0m \u001b[0mbrowser_profile\u001b[0m\u001b[0;34m)\u001b[0m\u001b[0;34m\u001b[0m\u001b[0;34m\u001b[0m\u001b[0m\n\u001b[0m\u001b[1;32m    158\u001b[0m         \u001b[0mself\u001b[0m\u001b[0;34m.\u001b[0m\u001b[0m_switch_to\u001b[0m \u001b[0;34m=\u001b[0m \u001b[0mSwitchTo\u001b[0m\u001b[0;34m(\u001b[0m\u001b[0mself\u001b[0m\u001b[0;34m)\u001b[0m\u001b[0;34m\u001b[0m\u001b[0;34m\u001b[0m\u001b[0m\n\u001b[1;32m    159\u001b[0m         \u001b[0mself\u001b[0m\u001b[0;34m.\u001b[0m\u001b[0m_mobile\u001b[0m \u001b[0;34m=\u001b[0m \u001b[0mMobile\u001b[0m\u001b[0;34m(\u001b[0m\u001b[0mself\u001b[0m\u001b[0;34m)\u001b[0m\u001b[0;34m\u001b[0m\u001b[0;34m\u001b[0m\u001b[0m\n",
      "\u001b[0;32m~/anaconda3/lib/python3.7/site-packages/selenium/webdriver/remote/webdriver.py\u001b[0m in \u001b[0;36mstart_session\u001b[0;34m(self, capabilities, browser_profile)\u001b[0m\n\u001b[1;32m    250\u001b[0m         parameters = {\"capabilities\": w3c_caps,\n\u001b[1;32m    251\u001b[0m                       \"desiredCapabilities\": capabilities}\n\u001b[0;32m--> 252\u001b[0;31m         \u001b[0mresponse\u001b[0m \u001b[0;34m=\u001b[0m \u001b[0mself\u001b[0m\u001b[0;34m.\u001b[0m\u001b[0mexecute\u001b[0m\u001b[0;34m(\u001b[0m\u001b[0mCommand\u001b[0m\u001b[0;34m.\u001b[0m\u001b[0mNEW_SESSION\u001b[0m\u001b[0;34m,\u001b[0m \u001b[0mparameters\u001b[0m\u001b[0;34m)\u001b[0m\u001b[0;34m\u001b[0m\u001b[0;34m\u001b[0m\u001b[0m\n\u001b[0m\u001b[1;32m    253\u001b[0m         \u001b[0;32mif\u001b[0m \u001b[0;34m'sessionId'\u001b[0m \u001b[0;32mnot\u001b[0m \u001b[0;32min\u001b[0m \u001b[0mresponse\u001b[0m\u001b[0;34m:\u001b[0m\u001b[0;34m\u001b[0m\u001b[0;34m\u001b[0m\u001b[0m\n\u001b[1;32m    254\u001b[0m             \u001b[0mresponse\u001b[0m \u001b[0;34m=\u001b[0m \u001b[0mresponse\u001b[0m\u001b[0;34m[\u001b[0m\u001b[0;34m'value'\u001b[0m\u001b[0;34m]\u001b[0m\u001b[0;34m\u001b[0m\u001b[0;34m\u001b[0m\u001b[0m\n",
      "\u001b[0;32m~/anaconda3/lib/python3.7/site-packages/selenium/webdriver/remote/webdriver.py\u001b[0m in \u001b[0;36mexecute\u001b[0;34m(self, driver_command, params)\u001b[0m\n\u001b[1;32m    319\u001b[0m         \u001b[0mresponse\u001b[0m \u001b[0;34m=\u001b[0m \u001b[0mself\u001b[0m\u001b[0;34m.\u001b[0m\u001b[0mcommand_executor\u001b[0m\u001b[0;34m.\u001b[0m\u001b[0mexecute\u001b[0m\u001b[0;34m(\u001b[0m\u001b[0mdriver_command\u001b[0m\u001b[0;34m,\u001b[0m \u001b[0mparams\u001b[0m\u001b[0;34m)\u001b[0m\u001b[0;34m\u001b[0m\u001b[0;34m\u001b[0m\u001b[0m\n\u001b[1;32m    320\u001b[0m         \u001b[0;32mif\u001b[0m \u001b[0mresponse\u001b[0m\u001b[0;34m:\u001b[0m\u001b[0;34m\u001b[0m\u001b[0;34m\u001b[0m\u001b[0m\n\u001b[0;32m--> 321\u001b[0;31m             \u001b[0mself\u001b[0m\u001b[0;34m.\u001b[0m\u001b[0merror_handler\u001b[0m\u001b[0;34m.\u001b[0m\u001b[0mcheck_response\u001b[0m\u001b[0;34m(\u001b[0m\u001b[0mresponse\u001b[0m\u001b[0;34m)\u001b[0m\u001b[0;34m\u001b[0m\u001b[0;34m\u001b[0m\u001b[0m\n\u001b[0m\u001b[1;32m    322\u001b[0m             response['value'] = self._unwrap_value(\n\u001b[1;32m    323\u001b[0m                 response.get('value', None))\n",
      "\u001b[0;32m~/anaconda3/lib/python3.7/site-packages/selenium/webdriver/remote/errorhandler.py\u001b[0m in \u001b[0;36mcheck_response\u001b[0;34m(self, response)\u001b[0m\n\u001b[1;32m    240\u001b[0m                 \u001b[0malert_text\u001b[0m \u001b[0;34m=\u001b[0m \u001b[0mvalue\u001b[0m\u001b[0;34m[\u001b[0m\u001b[0;34m'alert'\u001b[0m\u001b[0;34m]\u001b[0m\u001b[0;34m.\u001b[0m\u001b[0mget\u001b[0m\u001b[0;34m(\u001b[0m\u001b[0;34m'text'\u001b[0m\u001b[0;34m)\u001b[0m\u001b[0;34m\u001b[0m\u001b[0;34m\u001b[0m\u001b[0m\n\u001b[1;32m    241\u001b[0m             \u001b[0;32mraise\u001b[0m \u001b[0mexception_class\u001b[0m\u001b[0;34m(\u001b[0m\u001b[0mmessage\u001b[0m\u001b[0;34m,\u001b[0m \u001b[0mscreen\u001b[0m\u001b[0;34m,\u001b[0m \u001b[0mstacktrace\u001b[0m\u001b[0;34m,\u001b[0m \u001b[0malert_text\u001b[0m\u001b[0;34m)\u001b[0m\u001b[0;34m\u001b[0m\u001b[0;34m\u001b[0m\u001b[0m\n\u001b[0;32m--> 242\u001b[0;31m         \u001b[0;32mraise\u001b[0m \u001b[0mexception_class\u001b[0m\u001b[0;34m(\u001b[0m\u001b[0mmessage\u001b[0m\u001b[0;34m,\u001b[0m \u001b[0mscreen\u001b[0m\u001b[0;34m,\u001b[0m \u001b[0mstacktrace\u001b[0m\u001b[0;34m)\u001b[0m\u001b[0;34m\u001b[0m\u001b[0;34m\u001b[0m\u001b[0m\n\u001b[0m\u001b[1;32m    243\u001b[0m \u001b[0;34m\u001b[0m\u001b[0m\n\u001b[1;32m    244\u001b[0m     \u001b[0;32mdef\u001b[0m \u001b[0m_value_or_default\u001b[0m\u001b[0;34m(\u001b[0m\u001b[0mself\u001b[0m\u001b[0;34m,\u001b[0m \u001b[0mobj\u001b[0m\u001b[0;34m,\u001b[0m \u001b[0mkey\u001b[0m\u001b[0;34m,\u001b[0m \u001b[0mdefault\u001b[0m\u001b[0;34m)\u001b[0m\u001b[0;34m:\u001b[0m\u001b[0;34m\u001b[0m\u001b[0;34m\u001b[0m\u001b[0m\n",
      "\u001b[0;31mSessionNotCreatedException\u001b[0m: Message: session not created: This version of ChromeDriver only supports Chrome version 86\nCurrent browser version is 85.0.4183.102 with binary path /usr/bin/google-chrome\n"
     ]
    }
   ],
   "source": [
    "from selenium import webdriver\n",
    "from bs4 import BeautifulSoup\n",
    "import pandas as pd\n",
    "from selenium.webdriver.support import expected_conditions as EC\n",
    "from selenium.webdriver.common.by import By\n",
    "from selenium.webdriver.support.ui import WebDriverWait\n",
    "\n",
    "DRIVER_PATH = '/usr/lib/chromium-browser/chromedriver'\n",
    "driver = webdriver.Chrome(executable_path= DRIVER_PATH)\n",
    "source= 'https://covid19.tegalkab.go.id/'\n",
    "driver.get(source)"
   ]
  },
  {
   "cell_type": "code",
   "execution_count": 2,
   "metadata": {
    "ExecuteTime": {
     "end_time": "2020-10-25T13:54:39.523005Z",
     "start_time": "2020-10-25T13:54:39.463126Z"
    }
   },
   "outputs": [],
   "source": [
    "content = driver.page_source\n",
    "soup = BeautifulSoup(content)\n",
    "div = soup.find('table')\n",
    "# div\n",
    "links = div.find_all('td')\n",
    "# links\n",
    "# soup"
   ]
  },
  {
   "cell_type": "code",
   "execution_count": 3,
   "metadata": {
    "ExecuteTime": {
     "end_time": "2020-10-25T13:54:39.868465Z",
     "start_time": "2020-10-25T13:54:39.525032Z"
    }
   },
   "outputs": [
    {
     "ename": "ValueError",
     "evalue": "time data '' does not match format '%d %B %Y'",
     "output_type": "error",
     "traceback": [
      "\u001b[0;31m---------------------------------------------------------------------------\u001b[0m",
      "\u001b[0;31mValueError\u001b[0m                                Traceback (most recent call last)",
      "\u001b[0;32m<ipython-input-3-2a835e8dd3ab>\u001b[0m in \u001b[0;36m<module>\u001b[0;34m\u001b[0m\n\u001b[1;32m      6\u001b[0m \u001b[0mdate\u001b[0m \u001b[0;34m=\u001b[0m \u001b[0mdate\u001b[0m\u001b[0;34m.\u001b[0m\u001b[0mreplace\u001b[0m\u001b[0;34m(\u001b[0m\u001b[0;34m\"Oktober\"\u001b[0m\u001b[0;34m,\u001b[0m\u001b[0;34m\"October\"\u001b[0m\u001b[0;34m)\u001b[0m\u001b[0;34m\u001b[0m\u001b[0;34m\u001b[0m\u001b[0m\n\u001b[1;32m      7\u001b[0m \u001b[0;31m# print(date)\u001b[0m\u001b[0;34m\u001b[0m\u001b[0;34m\u001b[0m\u001b[0;34m\u001b[0m\u001b[0m\n\u001b[0;32m----> 8\u001b[0;31m \u001b[0mdate\u001b[0m \u001b[0;34m=\u001b[0m \u001b[0mdatetime\u001b[0m\u001b[0;34m.\u001b[0m\u001b[0mstrptime\u001b[0m\u001b[0;34m(\u001b[0m\u001b[0mdate\u001b[0m\u001b[0;34m,\u001b[0m \u001b[0;34m'%d %B %Y'\u001b[0m\u001b[0;34m)\u001b[0m\u001b[0;34m.\u001b[0m\u001b[0mdate\u001b[0m\u001b[0;34m(\u001b[0m\u001b[0;34m)\u001b[0m\u001b[0;34m\u001b[0m\u001b[0;34m\u001b[0m\u001b[0m\n\u001b[0m\u001b[1;32m      9\u001b[0m \u001b[0mdate\u001b[0m \u001b[0;34m=\u001b[0m \u001b[0;34m(\u001b[0m\u001b[0mdate\u001b[0m\u001b[0;34m.\u001b[0m\u001b[0mstrftime\u001b[0m\u001b[0;34m(\u001b[0m\u001b[0;34m'%d/%m/%Y'\u001b[0m\u001b[0;34m)\u001b[0m\u001b[0;34m)\u001b[0m\u001b[0;34m\u001b[0m\u001b[0;34m\u001b[0m\u001b[0m\n\u001b[1;32m     10\u001b[0m \u001b[0;31m# print(date)\u001b[0m\u001b[0;34m\u001b[0m\u001b[0;34m\u001b[0m\u001b[0;34m\u001b[0m\u001b[0m\n",
      "\u001b[0;32m~/anaconda3/lib/python3.7/_strptime.py\u001b[0m in \u001b[0;36m_strptime_datetime\u001b[0;34m(cls, data_string, format)\u001b[0m\n\u001b[1;32m    575\u001b[0m     \"\"\"Return a class cls instance based on the input string and the\n\u001b[1;32m    576\u001b[0m     format string.\"\"\"\n\u001b[0;32m--> 577\u001b[0;31m     \u001b[0mtt\u001b[0m\u001b[0;34m,\u001b[0m \u001b[0mfraction\u001b[0m\u001b[0;34m,\u001b[0m \u001b[0mgmtoff_fraction\u001b[0m \u001b[0;34m=\u001b[0m \u001b[0m_strptime\u001b[0m\u001b[0;34m(\u001b[0m\u001b[0mdata_string\u001b[0m\u001b[0;34m,\u001b[0m \u001b[0mformat\u001b[0m\u001b[0;34m)\u001b[0m\u001b[0;34m\u001b[0m\u001b[0;34m\u001b[0m\u001b[0m\n\u001b[0m\u001b[1;32m    578\u001b[0m     \u001b[0mtzname\u001b[0m\u001b[0;34m,\u001b[0m \u001b[0mgmtoff\u001b[0m \u001b[0;34m=\u001b[0m \u001b[0mtt\u001b[0m\u001b[0;34m[\u001b[0m\u001b[0;34m-\u001b[0m\u001b[0;36m2\u001b[0m\u001b[0;34m:\u001b[0m\u001b[0;34m]\u001b[0m\u001b[0;34m\u001b[0m\u001b[0;34m\u001b[0m\u001b[0m\n\u001b[1;32m    579\u001b[0m     \u001b[0margs\u001b[0m \u001b[0;34m=\u001b[0m \u001b[0mtt\u001b[0m\u001b[0;34m[\u001b[0m\u001b[0;34m:\u001b[0m\u001b[0;36m6\u001b[0m\u001b[0;34m]\u001b[0m \u001b[0;34m+\u001b[0m \u001b[0;34m(\u001b[0m\u001b[0mfraction\u001b[0m\u001b[0;34m,\u001b[0m\u001b[0;34m)\u001b[0m\u001b[0;34m\u001b[0m\u001b[0;34m\u001b[0m\u001b[0m\n",
      "\u001b[0;32m~/anaconda3/lib/python3.7/_strptime.py\u001b[0m in \u001b[0;36m_strptime\u001b[0;34m(data_string, format)\u001b[0m\n\u001b[1;32m    357\u001b[0m     \u001b[0;32mif\u001b[0m \u001b[0;32mnot\u001b[0m \u001b[0mfound\u001b[0m\u001b[0;34m:\u001b[0m\u001b[0;34m\u001b[0m\u001b[0;34m\u001b[0m\u001b[0m\n\u001b[1;32m    358\u001b[0m         raise ValueError(\"time data %r does not match format %r\" %\n\u001b[0;32m--> 359\u001b[0;31m                          (data_string, format))\n\u001b[0m\u001b[1;32m    360\u001b[0m     \u001b[0;32mif\u001b[0m \u001b[0mlen\u001b[0m\u001b[0;34m(\u001b[0m\u001b[0mdata_string\u001b[0m\u001b[0;34m)\u001b[0m \u001b[0;34m!=\u001b[0m \u001b[0mfound\u001b[0m\u001b[0;34m.\u001b[0m\u001b[0mend\u001b[0m\u001b[0;34m(\u001b[0m\u001b[0;34m)\u001b[0m\u001b[0;34m:\u001b[0m\u001b[0;34m\u001b[0m\u001b[0;34m\u001b[0m\u001b[0m\n\u001b[1;32m    361\u001b[0m         raise ValueError(\"unconverted data remains: %s\" %\n",
      "\u001b[0;31mValueError\u001b[0m: time data '' does not match format '%d %B %Y'"
     ]
    }
   ],
   "source": [
    "from datetime import datetime\n",
    "\n",
    "date = soup.find('h6')\n",
    "date = date.get_text().split()\n",
    "date = ' '.join(date[4:7])\n",
    "date = date.replace(\"Oktober\",\"October\")\n",
    "# print(date)\n",
    "date = datetime.strptime(date, '%d %B %Y').date()\n",
    "date = (date.strftime('%d/%m/%Y'))\n",
    "# print(date)\n",
    "\n",
    "now = datetime.now().strftime('%d/%m/%Y')"
   ]
  },
  {
   "cell_type": "code",
   "execution_count": null,
   "metadata": {
    "ExecuteTime": {
     "end_time": "2020-10-25T13:54:39.870317Z",
     "start_time": "2020-10-25T13:54:34.934Z"
    }
   },
   "outputs": [],
   "source": [
    "scrape_date = []\n",
    "date_update = []\n",
    "provinsi = []\n",
    "kabkot = []\n",
    "kecamatan = []\n",
    "kelurahan = []\n",
    "alamat = []\n",
    "total_odp = []\n",
    "odp_sembuh = []\n",
    "odp_dipantau = []\n",
    "odp_isolasi = []\n",
    "odp_meninggal = []\n",
    "total_pdp = []\n",
    "pdp_sembuh = []\n",
    "pdp_dipantau = []\n",
    "pdp_isolasi = []\n",
    "pdp_meninggal = []\n",
    "total_positif = []\n",
    "positif_sembuh = []\n",
    "positif_dirawat = []\n",
    "positif_isolasi = []\n",
    "positif_meninggal = []\n",
    "total_otg = []\n",
    "otg_sembuh = []\n",
    "otg_dipantau = []\n",
    "odr_total = []\n",
    "odr_selesai = []\n",
    "odr_dipantau = []\n",
    "total_PP = []\n",
    "PP_sembuh = []\n",
    "PP_dipantau = []\n",
    "pptg_total = []\n",
    "pptg_sembuh = []\n",
    "pptg_dipantau = []\n",
    "total_ppdt = []\n",
    "ppdt_sembuh = []\n",
    "ppdt_dipantau = []\n",
    "ob_total = []\n",
    "ob_sembuh = []\n",
    "ob_dipantau = []\n",
    "total_rapid_reaktif = []\n",
    "rapid_reaktif_sembuh = []\n",
    "rapid_reaktif_dipantau = []\n",
    "zona = []\n",
    "source_link = []\n",
    "types = []\n",
    "flags = []"
   ]
  },
  {
   "cell_type": "code",
   "execution_count": null,
   "metadata": {
    "ExecuteTime": {
     "end_time": "2020-10-25T13:54:39.871492Z",
     "start_time": "2020-10-25T13:54:34.936Z"
    }
   },
   "outputs": [],
   "source": [
    "import re\n",
    "\n",
    "for i, link in enumerate(links):\n",
    "    if i in range(0, len(links), 9):\n",
    "        kec = link.get_text().strip()\n",
    "#         print(kec)\n",
    "        kecamatan.append(kec)\n",
    "    if i in range(1, len(links), 9):\n",
    "        pp = link.get_text()\n",
    "        total_PP.append(pp)\n",
    "    if i in range(2, len(links), 9):\n",
    "        otg = link.get_text()\n",
    "        total_otg.append(otg)\n",
    "    if i in range(3, len(links), 9):\n",
    "        odp = link.get_text()\n",
    "        total_odp.append(odp)\n",
    "    if i in range(4, len(links), 9):\n",
    "        pdp = link.get_text()\n",
    "        total_pdp.append(pdp)\n",
    "    if i in range(5, len(links), 9):\n",
    "        isolasi = link.get_text()\n",
    "        positif_isolasi.append(isolasi)\n",
    "    if i in range(6, len(links), 9):\n",
    "        rawat = link.get_text()\n",
    "        positif_dirawat.append(rawat)\n",
    "    if i in range(7, len(links), 9):\n",
    "        sembuh = link.get_text()\n",
    "        positif_sembuh.append(sembuh)\n",
    "    if i in range(8, len(links), 9):\n",
    "        meninggal = link.get_text()\n",
    "        positif_meninggal.append(meninggal)\n",
    "        total = int(isolasi) + int(rawat)\n",
    "        total_positif.append(total)\n",
    "    if i in range(1, len(links), 9):\n",
    "        source_link.append(source)\n",
    "        scrape_date.append(now)\n",
    "        date_update.append(date)\n",
    "        provinsi.append('JAWA TENGAH')\n",
    "        kabkot.append('TEGAL')\n",
    "#         total_pdp.append(None)\n",
    "        kelurahan.append(None)\n",
    "        alamat.append(None)\n",
    "        odp_sembuh.append(None)\n",
    "        odp_dipantau.append(None)\n",
    "        odp_isolasi.append(None)\n",
    "        odp_meninggal.append(None)\n",
    "        pdp_sembuh.append(None)\n",
    "        pdp_dipantau.append(None)\n",
    "        pdp_isolasi.append(None)\n",
    "        pdp_meninggal.append(None)\n",
    "#         positif_isolasi.append(None)\n",
    "#         positif_sembuh.append(None)\n",
    "#         positif_dirawat.append(None)\n",
    "#         total_otg.append(None)\n",
    "        otg_sembuh.append(None)\n",
    "        otg_dipantau.append(None)\n",
    "        odr_total.append(None)\n",
    "        odr_selesai.append(None)\n",
    "        odr_dipantau.append(None)\n",
    "#         total_PP.append(None)\n",
    "        PP_sembuh.append(None)\n",
    "        PP_dipantau.append(None)\n",
    "        pptg_total.append(None)\n",
    "        pptg_sembuh.append(None)\n",
    "        pptg_dipantau.append(None)\n",
    "        total_ppdt.append(None)\n",
    "        ppdt_sembuh.append(None)\n",
    "        ppdt_dipantau.append(None)\n",
    "        ob_total.append(None)\n",
    "        ob_sembuh.append(None)\n",
    "        ob_dipantau.append(None)\n",
    "        total_rapid_reaktif.append(None)\n",
    "        rapid_reaktif_sembuh.append(None)\n",
    "        rapid_reaktif_dipantau.append(None)\n",
    "        zona.append(None)\n",
    "        types.append(\"Kecamatan\")\n",
    "        flags.append(None)"
   ]
  },
  {
   "cell_type": "code",
   "execution_count": 4,
   "metadata": {
    "ExecuteTime": {
     "end_time": "2020-10-25T13:54:45.656600Z",
     "start_time": "2020-10-25T13:54:45.620014Z"
    }
   },
   "outputs": [
    {
     "ename": "NameError",
     "evalue": "name 'scrape_date' is not defined",
     "output_type": "error",
     "traceback": [
      "\u001b[0;31m---------------------------------------------------------------------------\u001b[0m",
      "\u001b[0;31mNameError\u001b[0m                                 Traceback (most recent call last)",
      "\u001b[0;32m<ipython-input-4-8e131eda320c>\u001b[0m in \u001b[0;36m<module>\u001b[0;34m\u001b[0m\n\u001b[1;32m      1\u001b[0m \u001b[0mdf\u001b[0m \u001b[0;34m=\u001b[0m \u001b[0mpd\u001b[0m\u001b[0;34m.\u001b[0m\u001b[0mDataFrame\u001b[0m\u001b[0;34m(\u001b[0m\u001b[0;34m)\u001b[0m\u001b[0;34m\u001b[0m\u001b[0;34m\u001b[0m\u001b[0m\n\u001b[1;32m      2\u001b[0m \u001b[0;34m\u001b[0m\u001b[0m\n\u001b[0;32m----> 3\u001b[0;31m \u001b[0mdf\u001b[0m\u001b[0;34m[\u001b[0m\u001b[0;34m\"scrape_date\"\u001b[0m\u001b[0;34m]\u001b[0m \u001b[0;34m=\u001b[0m \u001b[0mscrape_date\u001b[0m\u001b[0;34m\u001b[0m\u001b[0;34m\u001b[0m\u001b[0m\n\u001b[0m\u001b[1;32m      4\u001b[0m \u001b[0mdf\u001b[0m\u001b[0;34m[\u001b[0m\u001b[0;34m\"date_update\"\u001b[0m\u001b[0;34m]\u001b[0m \u001b[0;34m=\u001b[0m \u001b[0mdate_update\u001b[0m\u001b[0;34m\u001b[0m\u001b[0;34m\u001b[0m\u001b[0m\n\u001b[1;32m      5\u001b[0m \u001b[0mdf\u001b[0m\u001b[0;34m[\u001b[0m\u001b[0;34m\"provinsi\"\u001b[0m\u001b[0;34m]\u001b[0m \u001b[0;34m=\u001b[0m \u001b[0mprovinsi\u001b[0m\u001b[0;34m\u001b[0m\u001b[0;34m\u001b[0m\u001b[0m\n",
      "\u001b[0;31mNameError\u001b[0m: name 'scrape_date' is not defined"
     ]
    }
   ],
   "source": [
    "df = pd.DataFrame()\n",
    "\n",
    "df[\"scrape_date\"] = scrape_date\n",
    "df[\"date_update\"] = date_update\n",
    "df[\"provinsi\"] = provinsi\n",
    "df[\"kabkot\"] = kabkot\n",
    "df[\"kecamatan\"] = kecamatan\n",
    "df[\"kelurahan\"] = kelurahan\n",
    "df[\"alamat\"] = alamat\n",
    "df[\"total_odp\"] = total_odp\n",
    "df[\"odp_sembuh\"] = odp_sembuh\n",
    "df[\"odp_dipantau\"] = odp_dipantau\n",
    "df[\"odp_isolasi\"] = odp_isolasi\n",
    "df[\"odp_meninggal\"] = odp_meninggal\n",
    "df[\"total_pdp\"] = total_pdp\n",
    "df[\"pdp_sembuh\"] = pdp_sembuh\n",
    "df[\"pdp_dipantau\"] = pdp_dipantau\n",
    "df[\"pdp_isolasi\"] = pdp_isolasi\n",
    "df[\"pdp_meninggal\"] = pdp_meninggal\n",
    "df[\"total_positif\"] = total_positif\n",
    "df[\"positif_sembuh\"] = positif_sembuh\n",
    "df[\"positif_dirawat\"] = positif_dirawat\n",
    "df[\"positif_isolasi\"] = positif_isolasi\n",
    "df[\"positif_meninggal\"] = positif_meninggal\n",
    "df[\"total_otg\"] = total_otg\n",
    "df[\"otg_sembuh\"] = otg_sembuh\n",
    "df[\"otg_dipantau\"] = otg_dipantau\n",
    "df[\"odr_total\"] = odr_total\n",
    "df[\"odr_selesai\"] = odr_selesai\n",
    "df[\"odr_dipantau\"] = odr_dipantau\n",
    "df[\"total_PP\"] = total_PP\n",
    "df[\"PP_sembuh\"] = PP_sembuh\n",
    "df[\"PP_dipantau\"] = PP_dipantau\n",
    "df[\"pptg_total\"] = pptg_total\n",
    "df[\"pptg_sembuh\"] = pptg_sembuh\n",
    "df[\"pptg_dipantau\"] = pptg_dipantau\n",
    "df[\"total_ppdt\"] = total_ppdt\n",
    "df[\"ppdt_sembuh\"] = ppdt_sembuh\n",
    "df[\"ppdt_dipantau\"] = ppdt_dipantau\n",
    "df[\"ob_total\"] = ob_total\n",
    "df[\"ob_sembuh\"] = ob_sembuh\n",
    "df[\"ob_dipantau\"] = ob_dipantau\n",
    "df[\"total_rapid_reaktif\"] = total_rapid_reaktif\n",
    "df[\"rapid_reaktif_sembuh\"] = rapid_reaktif_sembuh\n",
    "df[\"rapid_reaktif_dipantau\"] = rapid_reaktif_dipantau\n",
    "df[\"zona\"] = zona\n",
    "df[\"source_link\"] = source_link\n",
    "df[\"types\"] = types\n",
    "df[\"flags\"] = flags\n",
    "df[\"pic\"] = 'Gifari'\n",
    "\n",
    "pd.set_option('display.max_columns', None)\n",
    "df"
   ]
  },
  {
   "cell_type": "code",
   "execution_count": null,
   "metadata": {
    "ExecuteTime": {
     "end_time": "2020-10-25T13:54:39.873738Z",
     "start_time": "2020-10-25T13:54:34.940Z"
    }
   },
   "outputs": [],
   "source": [
    "df1 = df[['date_update','provinsi','kabkot','kecamatan','kelurahan','alamat','total_odp','total_pdp','total_positif','positif_sembuh','positif_dirawat','positif_isolasi','positif_meninggal','total_otg','odr_total','total_PP','total_ppdt','source_link']]\n",
    "df1.to_csv('Tegal.csv', index=False, sep=';')"
   ]
  },
  {
   "cell_type": "code",
   "execution_count": null,
   "metadata": {
    "ExecuteTime": {
     "end_time": "2020-10-25T13:54:39.874780Z",
     "start_time": "2020-10-25T13:54:34.941Z"
    }
   },
   "outputs": [],
   "source": [
    "# "
   ]
  },
  {
   "cell_type": "code",
   "execution_count": null,
   "metadata": {},
   "outputs": [],
   "source": []
  }
 ],
 "metadata": {
  "kernelspec": {
   "display_name": "Python 3",
   "language": "python",
   "name": "python3"
  }
 },
 "nbformat": 4,
 "nbformat_minor": 2
}
