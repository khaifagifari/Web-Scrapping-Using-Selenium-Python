{
 "cells": [
  {
   "cell_type": "code",
   "execution_count": 1,
   "metadata": {
    "ExecuteTime": {
     "end_time": "2020-10-14T14:59:23.854966Z",
     "start_time": "2020-10-14T14:59:12.570096Z"
    }
   },
   "outputs": [],
   "source": [
    "from selenium import webdriver\n",
    "from bs4 import BeautifulSoup\n",
    "import pandas as pd\n",
    "from selenium.webdriver.support import expected_conditions as EC\n",
    "from selenium.webdriver.common.by import By\n",
    "from selenium.webdriver.support.ui import WebDriverWait\n",
    "\n",
    "DRIVER_PATH = '/usr/lib/chromium-browser/chromedriver'\n",
    "driver = webdriver.Chrome(executable_path= DRIVER_PATH)\n",
    "source= 'https://corona.temanggungkab.go.id/'\n",
    "driver.get(source)\n",
    "\n",
    "# driver.find_element_by_xpath('//*[@class=\"table-responsive-md\"]/div/div[1]/div[1]/div/label/select/option[@value =\"25\"]').click()\n",
    "\n",
    "# driver.click()"
   ]
  },
  {
   "cell_type": "code",
   "execution_count": 2,
   "metadata": {
    "ExecuteTime": {
     "end_time": "2020-10-14T14:59:23.961192Z",
     "start_time": "2020-10-14T14:59:23.858415Z"
    }
   },
   "outputs": [],
   "source": [
    "content = driver.page_source\n",
    "soup = BeautifulSoup(content)\n",
    "div = soup.find('table')\n",
    "# div\n",
    "links = div.find_all('td')\n",
    "# links\n",
    "# soup"
   ]
  },
  {
   "cell_type": "code",
   "execution_count": 3,
   "metadata": {
    "ExecuteTime": {
     "end_time": "2020-10-14T14:59:24.186383Z",
     "start_time": "2020-10-14T14:59:23.964619Z"
    }
   },
   "outputs": [],
   "source": [
    "from datetime import datetime\n",
    "\n",
    "date = soup.find('span', class_ = 'text-center')\n",
    "date = date.get_text().split()\n",
    "date = ' '.join(date[3:6])\n",
    "date = date.replace(\"Oktober\",\"October\")\n",
    "date = datetime.strptime(date, '%d %B %Y').date()\n",
    "date = (date.strftime('%d/%m/%Y'))\n",
    "date\n",
    "\n",
    "now = datetime.now().strftime('%d/%m/%Y')"
   ]
  },
  {
   "cell_type": "code",
   "execution_count": 4,
   "metadata": {
    "ExecuteTime": {
     "end_time": "2020-10-14T14:59:24.465328Z",
     "start_time": "2020-10-14T14:59:24.189848Z"
    }
   },
   "outputs": [],
   "source": [
    "scrape_date = []\n",
    "date_update = []\n",
    "provinsi = []\n",
    "kabkot = []\n",
    "kecamatan = []\n",
    "kelurahan = []\n",
    "alamat = []\n",
    "total_odp = []\n",
    "odp_sembuh = []\n",
    "odp_dipantau = []\n",
    "odp_isolasi = []\n",
    "odp_meninggal = []\n",
    "total_pdp = []\n",
    "pdp_sembuh = []\n",
    "pdp_dipantau = []\n",
    "pdp_isolasi = []\n",
    "pdp_meninggal = []\n",
    "total_positif = []\n",
    "positif_sembuh = []\n",
    "positif_dirawat = []\n",
    "positif_isolasi = []\n",
    "positif_meninggal = []\n",
    "total_otg = []\n",
    "otg_sembuh = []\n",
    "otg_dipantau = []\n",
    "odr_total = []\n",
    "odr_selesai = []\n",
    "odr_dipantau = []\n",
    "total_PP = []\n",
    "PP_sembuh = []\n",
    "PP_dipantau = []\n",
    "pptg_total = []\n",
    "pptg_sembuh = []\n",
    "pptg_dipantau = []\n",
    "total_ppdt = []\n",
    "ppdt_sembuh = []\n",
    "ppdt_dipantau = []\n",
    "ob_total = []\n",
    "ob_sembuh = []\n",
    "ob_dipantau = []\n",
    "total_rapid_reaktif = []\n",
    "rapid_reaktif_sembuh = []\n",
    "rapid_reaktif_dipantau = []\n",
    "zona = []\n",
    "source_link = []\n",
    "types = []\n",
    "flags = []"
   ]
  },
  {
   "cell_type": "code",
   "execution_count": 5,
   "metadata": {
    "ExecuteTime": {
     "end_time": "2020-10-14T14:59:24.685077Z",
     "start_time": "2020-10-14T14:59:24.473028Z"
    }
   },
   "outputs": [],
   "source": [
    "import re\n",
    "\n",
    "for i, link in enumerate(links):\n",
    "    if i in range(1, len(links), 7):\n",
    "        kec = link.get_text().strip()\n",
    "        kecamatan.append(kec)\n",
    "    if i in range(2, len(links), 7):\n",
    "        odpdipantau = link.get_text()\n",
    "        odp_dipantau.append(odpdipantau)\n",
    "    if i in range(3, len(links), 7):\n",
    "        suspek = re.findall(r'[0-9]+', link.get_text())\n",
    "        total_odp.append(suspek[0])\n",
    "    if i in range(4, len(links), 7):\n",
    "        positif = re.findall(r'[0-9]+', link.get_text())\n",
    "    if i in range(5, len(links), 7):\n",
    "        positif_tg = re.findall(r'[0-9]+', link.get_text())\n",
    "        pos = (int(positif[0]) + int(positif_tg[0]))\n",
    "        total_positif.append(pos)\n",
    "        total_otg.append(positif_tg[0])\n",
    "    if i in range(6, len(links), 7):\n",
    "        meninggal = re.findall(r'[0-9]+', link.get_text())\n",
    "        positif_meninggal.append(meninggal[0])\n",
    "    if i in range(1, len(links), 7):\n",
    "        source_link.append(source)\n",
    "        scrape_date.append(now)\n",
    "        date_update.append(date)\n",
    "        provinsi.append('JAWA TENGAH')\n",
    "        kabkot.append('TEMANGGUNG')\n",
    "        total_pdp.append(None)\n",
    "        kelurahan.append(None)\n",
    "        alamat.append(None)\n",
    "        odp_sembuh.append(None)\n",
    "#         odp_dipantau.append(None)\n",
    "        odp_isolasi.append(None)\n",
    "        odp_meninggal.append(None)\n",
    "        pdp_sembuh.append(None)\n",
    "        pdp_dipantau.append(None)\n",
    "        pdp_isolasi.append(None)\n",
    "        pdp_meninggal.append(None)\n",
    "        positif_isolasi.append(None)\n",
    "        positif_sembuh.append(None)\n",
    "        positif_dirawat.append(None)\n",
    "#         total_otg.append(None)\n",
    "        otg_sembuh.append(None)\n",
    "        otg_dipantau.append(None)\n",
    "        odr_total.append(None)\n",
    "        odr_selesai.append(None)\n",
    "        odr_dipantau.append(None)\n",
    "        total_PP.append(None)\n",
    "        PP_sembuh.append(None)\n",
    "        PP_dipantau.append(None)\n",
    "        pptg_total.append(None)\n",
    "        pptg_sembuh.append(None)\n",
    "        pptg_dipantau.append(None)\n",
    "        total_ppdt.append(None)\n",
    "        ppdt_sembuh.append(None)\n",
    "        ppdt_dipantau.append(None)\n",
    "        ob_total.append(None)\n",
    "        ob_sembuh.append(None)\n",
    "        ob_dipantau.append(None)\n",
    "        total_rapid_reaktif.append(None)\n",
    "        rapid_reaktif_sembuh.append(None)\n",
    "        rapid_reaktif_dipantau.append(None)\n",
    "        zona.append(None)\n",
    "        types.append(\"Kecamatan\")\n",
    "        flags.append(None)"
   ]
  },
  {
   "cell_type": "code",
   "execution_count": 6,
   "metadata": {
    "ExecuteTime": {
     "end_time": "2020-10-14T14:59:24.847280Z",
     "start_time": "2020-10-14T14:59:24.688698Z"
    }
   },
   "outputs": [],
   "source": [
    "df = pd.DataFrame()\n",
    "\n",
    "df[\"scrape_date\"] = scrape_date\n",
    "df[\"date_update\"] = date_update\n",
    "df[\"provinsi\"] = provinsi\n",
    "df[\"kabkot\"] = kabkot\n",
    "df[\"kecamatan\"] = kecamatan\n",
    "df[\"kelurahan\"] = kelurahan\n",
    "df[\"alamat\"] = alamat\n",
    "df[\"total_odp\"] = total_odp\n",
    "df[\"odp_sembuh\"] = odp_sembuh\n",
    "df[\"odp_dipantau\"] = odp_dipantau\n",
    "df[\"odp_isolasi\"] = odp_isolasi\n",
    "df[\"odp_meninggal\"] = odp_meninggal\n",
    "df[\"total_pdp\"] = total_pdp\n",
    "df[\"pdp_sembuh\"] = pdp_sembuh\n",
    "df[\"pdp_dipantau\"] = pdp_dipantau\n",
    "df[\"pdp_isolasi\"] = pdp_isolasi\n",
    "df[\"pdp_meninggal\"] = pdp_meninggal\n",
    "df[\"total_positif\"] = total_positif\n",
    "df[\"positif_sembuh\"] = positif_sembuh\n",
    "df[\"positif_dirawat\"] = positif_dirawat\n",
    "df[\"positif_isolasi\"] = positif_isolasi\n",
    "df[\"positif_meninggal\"] = positif_meninggal\n",
    "df[\"total_otg\"] = total_otg\n",
    "df[\"otg_sembuh\"] = otg_sembuh\n",
    "df[\"otg_dipantau\"] = otg_dipantau\n",
    "df[\"odr_total\"] = odr_total\n",
    "df[\"odr_selesai\"] = odr_selesai\n",
    "df[\"odr_dipantau\"] = odr_dipantau\n",
    "df[\"total_PP\"] = total_PP\n",
    "df[\"PP_sembuh\"] = PP_sembuh\n",
    "df[\"PP_dipantau\"] = PP_dipantau\n",
    "df[\"pptg_total\"] = pptg_total\n",
    "df[\"pptg_sembuh\"] = pptg_sembuh\n",
    "df[\"pptg_dipantau\"] = pptg_dipantau\n",
    "df[\"total_ppdt\"] = total_ppdt\n",
    "df[\"ppdt_sembuh\"] = ppdt_sembuh\n",
    "df[\"ppdt_dipantau\"] = ppdt_dipantau\n",
    "df[\"ob_total\"] = ob_total\n",
    "df[\"ob_sembuh\"] = ob_sembuh\n",
    "df[\"ob_dipantau\"] = ob_dipantau\n",
    "df[\"total_rapid_reaktif\"] = total_rapid_reaktif\n",
    "df[\"rapid_reaktif_sembuh\"] = rapid_reaktif_sembuh\n",
    "df[\"rapid_reaktif_dipantau\"] = rapid_reaktif_dipantau\n",
    "df[\"zona\"] = zona\n",
    "df[\"source_link\"] = source_link\n",
    "df[\"types\"] = types\n",
    "df[\"flags\"] = flags\n",
    "df[\"pic\"] = 'Gifari'\n",
    "\n",
    "pd.set_option('display.max_columns', None)\n",
    "# df"
   ]
  },
  {
   "cell_type": "code",
   "execution_count": 7,
   "metadata": {
    "ExecuteTime": {
     "end_time": "2020-10-14T14:59:25.033945Z",
     "start_time": "2020-10-14T14:59:24.850105Z"
    }
   },
   "outputs": [],
   "source": [
    "df1 = df[['date_update','provinsi','kabkot','kecamatan','kelurahan','alamat','total_odp','total_pdp','total_positif','positif_sembuh','positif_dirawat','positif_isolasi','positif_meninggal','total_otg','odr_total','total_PP','total_ppdt','source_link']]\n",
    "df1.to_csv('Temanggung.csv', index=False, sep=';')"
   ]
  },
  {
   "cell_type": "code",
   "execution_count": null,
   "metadata": {},
   "outputs": [],
   "source": []
  },
  {
   "cell_type": "code",
   "execution_count": null,
   "metadata": {},
   "outputs": [],
   "source": []
  }
 ],
 "metadata": {
  "kernelspec": {
   "display_name": "Python 3",
   "language": "python",
   "name": "python3"
  },
  "language_info": {
   "codemirror_mode": {
    "name": "ipython",
    "version": 3
   },
   "file_extension": ".py",
   "mimetype": "text/x-python",
   "name": "python",
   "nbconvert_exporter": "python",
   "pygments_lexer": "ipython3",
   "version": "3.7.3"
  }
 },
 "nbformat": 4,
 "nbformat_minor": 2
}
